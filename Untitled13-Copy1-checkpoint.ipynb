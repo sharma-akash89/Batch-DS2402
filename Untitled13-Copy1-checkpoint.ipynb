{
 "cells": [
  {
   "cell_type": "markdown",
   "id": "2a89ad64",
   "metadata": {},
   "source": [
    "Q1"
   ]
  },
  {
   "cell_type": "code",
   "execution_count": 230,
   "id": "24990f52",
   "metadata": {},
   "outputs": [
    {
     "name": "stdout",
     "output_type": "stream",
     "text": [
      "Python:Exercises::PHP:exercises:\n"
     ]
    }
   ],
   "source": [
    "import re\n",
    "text = 'Python Exercises, PHP exercises.'\n",
    "print(re.sub(\"[ ,.]\", \":\", text))"
   ]
  },
  {
   "cell_type": "markdown",
   "id": "01b8b391",
   "metadata": {},
   "source": [
    "Q2"
   ]
  },
  {
   "cell_type": "code",
   "execution_count": 11,
   "id": "88b4eeae",
   "metadata": {},
   "outputs": [
    {
     "name": "stdout",
     "output_type": "stream",
     "text": [
      "         SUMMARY\n",
      "0    hello world\n",
      "1           test\n",
      "2  four five six\n"
     ]
    }
   ],
   "source": [
    "import numpy as np\n",
    "import pandas as pd\n",
    "data={'SUMMARY' : ['hello, world!', 'XXXXX test', '123four, five:; six...']}\n",
    "df=pd.DataFrame(data)\n",
    "df['SUMMARY'] = df['SUMMARY'].str.replace('[^a-z\\s]', '', regex= True)\n",
    "print(df)"
   ]
  },
  {
   "cell_type": "markdown",
   "id": "9e6f3322",
   "metadata": {},
   "source": [
    "Q3"
   ]
  },
  {
   "cell_type": "code",
   "execution_count": 23,
   "id": "96dc3039",
   "metadata": {},
   "outputs": [
    {
     "name": "stdout",
     "output_type": "stream",
     "text": [
      "['love', 'bake', 'fresh', 'bread', 'every', 'morning']\n"
     ]
    }
   ],
   "source": [
    "import re\n",
    "\n",
    "def find_words(string):\n",
    "  pattern = re.compile(r'\\b\\w{4,8}\\b')\n",
    "  matches = pattern.findall(string)\n",
    "  return matches\n",
    "string = \"I love to bake fresh bread every morning.\"\n",
    "result = find_words(string)\n",
    "print(result)"
   ]
  },
  {
   "cell_type": "markdown",
   "id": "5d03b4a4",
   "metadata": {},
   "source": [
    "Q4"
   ]
  },
  {
   "cell_type": "code",
   "execution_count": 25,
   "id": "72e814d6",
   "metadata": {},
   "outputs": [
    {
     "name": "stdout",
     "output_type": "stream",
     "text": [
      "['love', 'eat', 'fresh', 'bread', 'every']\n"
     ]
    }
   ],
   "source": [
    "import re\n",
    "\n",
    "def find_words(string):\n",
    "  pattern = re.compile(r'\\b\\w{3,5}\\b')\n",
    "  matches = pattern.findall(string)\n",
    "  return matches\n",
    "string = \"I love to eat fresh bread every morning.\"\n",
    "result = find_words(string)\n",
    "print(result)"
   ]
  },
  {
   "cell_type": "markdown",
   "id": "d281c0a4",
   "metadata": {},
   "source": [
    "Q5\n",
    "\n"
   ]
  },
  {
   "cell_type": "code",
   "execution_count": 139,
   "id": "4fe44e71",
   "metadata": {},
   "outputs": [
    {
     "name": "stdout",
     "output_type": "stream",
     "text": [
      "['example.com', 'hr@fliprobo.com', 'github.com', 'HelloDataScienceWorld', 'DataScientist']\n"
     ]
    }
   ],
   "source": [
    "import re\n",
    "\n",
    "def remove_parentheses_and_spaces(strings):\n",
    "    pattern = re.compile(r'[()\\s]')\n",
    "    new_strings = [pattern.sub('', s) for s in strings]\n",
    "    return new_strings\n",
    "\n",
    "\n",
    "sample_text = [\"example (.com)\", \"hr@fliprobo (.com)\", \"github (.com)\", \"Hello (Data Science World)\", \"Data (Scientist)\"]\n",
    "text = remove_parentheses_and_spaces(sample_text)\n",
    "print(text)"
   ]
  },
  {
   "cell_type": "markdown",
   "id": "085908b7",
   "metadata": {},
   "source": [
    "Q6"
   ]
  },
  {
   "cell_type": "code",
   "execution_count": 160,
   "id": "44a2c45e",
   "metadata": {},
   "outputs": [],
   "source": [
    "import re\n",
    "\n",
    "def remove_parentheses(text):\n",
    "    pattern = re.compile(r'\\([^)]*\\)')  \n",
    "    return pattern.sub('', text)  \n",
    "\n",
    "\n",
    "file_path = r\"C:\\Sql Data\\akash.txt\"\n",
    "with open(file_path, \"r\") as file:\n",
    "    text = file.read()\n",
    "\n",
    "\n",
    "mytext = remove_parentheses(text)\n",
    "\n",
    "\n",
    "with open(file_path, \"w\") as file:\n",
    "    file.write(mytext)\n",
    "    "
   ]
  },
  {
   "cell_type": "markdown",
   "id": "4b50efde",
   "metadata": {},
   "source": [
    "Q7"
   ]
  },
  {
   "cell_type": "code",
   "execution_count": 159,
   "id": "39fd0ad5",
   "metadata": {},
   "outputs": [
    {
     "name": "stdout",
     "output_type": "stream",
     "text": [
      "['Importance', 'Of', 'Regular', 'Expressions', 'In', 'Python']\n"
     ]
    }
   ],
   "source": [
    "import re\n",
    "\n",
    "my_text = \"ImportanceOfRegularExpressionsInPython\"\n",
    "mychange_case = re.split(r'([A-Z][a-z]*)', my_text)\n",
    "mychange_case = [char for char in mychange_case if char]  \n",
    "\n",
    "print(mychange_case)"
   ]
  },
  {
   "cell_type": "markdown",
   "id": "bd4d167a",
   "metadata": {},
   "source": [
    "Q8"
   ]
  },
  {
   "cell_type": "code",
   "execution_count": 163,
   "id": "65dbe7a4",
   "metadata": {},
   "outputs": [
    {
     "name": "stdout",
     "output_type": "stream",
     "text": [
      "RegularExpression 1IsAn 2ImportantTopic 3InPython\n"
     ]
    }
   ],
   "source": [
    "import re\n",
    "\n",
    "def insert_spaces(text):\n",
    "    pattern = re.compile(r'(?<=[a-zA-Z])(?=\\d)')\n",
    "    space_text = pattern.sub(' ', text)\n",
    "    return space_text\n",
    "sample_text = \"RegularExpression1IsAn2ImportantTopic3InPython\"\n",
    "space_text = insert_spaces(sample_text)\n",
    "print(space_text)"
   ]
  },
  {
   "cell_type": "markdown",
   "id": "f1296096",
   "metadata": {},
   "source": [
    "Q9"
   ]
  },
  {
   "cell_type": "code",
   "execution_count": 164,
   "id": "eed237ba",
   "metadata": {},
   "outputs": [
    {
     "name": "stdout",
     "output_type": "stream",
     "text": [
      "Regular Expression 1 Is An 2 Important Topic 3 In Python\n"
     ]
    }
   ],
   "source": [
    "import re\n",
    "\n",
    "def insert_spaces(text):\n",
    "    pattern = re.compile(r'(?<=[a-z])(?=[A-Z\\d])|(?<=\\d)(?=[A-Za-z])') \n",
    "    space_text = pattern.sub(' ', text)\n",
    "    return space_text\n",
    "sample_text = \"RegularExpression1IsAn2ImportantTopic3InPython\"\n",
    "space_text = insert_spaces(sample_text)\n",
    "print(space_text)"
   ]
  },
  {
   "cell_type": "markdown",
   "id": "a6462dba",
   "metadata": {},
   "source": [
    "Q10"
   ]
  },
  {
   "cell_type": "code",
   "execution_count": 171,
   "id": "f30bcf2b",
   "metadata": {},
   "outputs": [
    {
     "data": {
      "text/plain": [
       "0      Switze\n",
       "1      Icelan\n",
       "2      Denmar\n",
       "3      Norway\n",
       "4      Canada\n",
       "        ...  \n",
       "153    Rwanda\n",
       "154     Benin\n",
       "155     Syria\n",
       "156    Burund\n",
       "157      Togo\n",
       "Name: first_five_letters, Length: 158, dtype: object"
      ]
     },
     "execution_count": 171,
     "metadata": {},
     "output_type": "execute_result"
    }
   ],
   "source": [
    "import numpy as np\n",
    "import pandas as pd\n",
    "url = \"https://raw.githubusercontent.com/dsrscientist/DSData/master/happiness_score_dataset.csv\"\n",
    "df = pd.read_csv(url)\n",
    "df['first_five_letters'] = df['Country'].str[:6]\n",
    "df['first_five_letters']"
   ]
  },
  {
   "cell_type": "markdown",
   "id": "f4782d9e",
   "metadata": {},
   "source": [
    "Q11"
   ]
  },
  {
   "cell_type": "code",
   "execution_count": 172,
   "id": "3501c89d",
   "metadata": {},
   "outputs": [
    {
     "name": "stdout",
     "output_type": "stream",
     "text": [
      "Akash123: True\n",
      "naukri: True\n",
      "789_: True\n",
      "sharma_SHARMA: True\n",
      "Akash*: False\n"
     ]
    }
   ],
   "source": [
    "import re\n",
    "\n",
    "def match_string(string):\n",
    "    pattern = re.compile(r'^[a-zA-Z0-9_]+$')\n",
    "    return bool(pattern.match(string))\n",
    "strings = [\"Akash123\", \"naukri\", \"789_\", \"sharma_SHARMA\", \"Akash*\"]\n",
    "for s in strings:\n",
    "    print(f'{s}: {match_string(s)}')"
   ]
  },
  {
   "cell_type": "markdown",
   "id": "2c7b14e8",
   "metadata": {},
   "source": [
    "Q12"
   ]
  },
  {
   "cell_type": "code",
   "execution_count": 174,
   "id": "8e25f6d7",
   "metadata": {},
   "outputs": [
    {
     "name": "stdout",
     "output_type": "stream",
     "text": [
      "String \"123naukri\" starts with number \"123\": True\n",
      "String \"naukri123\" starts with number \"123\": False\n"
     ]
    }
   ],
   "source": [
    "import re\n",
    "\n",
    "def starts_with_number(string, number):\n",
    "    pattern = re.compile(f'^{number}')\n",
    "    return bool(pattern.match(string))\n",
    "string = \"123naukri\"\n",
    "number = \"123\"\n",
    "print(f'String \"{string}\" starts with number \"{number}\": {starts_with_number(string, number)}')\n",
    "string = \"naukri123\"\n",
    "number = \"123\"\n",
    "print(f'String \"{string}\" starts with number \"{number}\": {starts_with_number(string, number)}')\n"
   ]
  },
  {
   "cell_type": "markdown",
   "id": "4708e88c",
   "metadata": {},
   "source": [
    "Q13"
   ]
  },
  {
   "cell_type": "code",
   "execution_count": 180,
   "id": "ef960606",
   "metadata": {},
   "outputs": [
    {
     "name": "stdout",
     "output_type": "stream",
     "text": [
      "Original IP address is: 192.168.007.015\n",
      "New IP address will be: 192.168.7.15\n"
     ]
    }
   ],
   "source": [
    "import re\n",
    "\n",
    "def remove_starting_zeros(ip_address):\n",
    "    pattern = re.compile(r'\\b0+(\\d+)\\b')\n",
    "    cleaned_ip_address = pattern.sub(r'\\1', ip_address)\n",
    "    return cleaned_ip_address\n",
    "ip_address = \"192.168.007.015\"\n",
    "new_ip_address = remove_starting_zeros(ip_address)\n",
    "print(\"Original IP address is:\", ip_address)\n",
    "print(\"New IP address will be:\", new_ip_address)"
   ]
  },
  {
   "cell_type": "markdown",
   "id": "a68ccd0a",
   "metadata": {},
   "source": [
    "Q14"
   ]
  },
  {
   "cell_type": "code",
   "execution_count": 186,
   "id": "839fda00",
   "metadata": {},
   "outputs": [
    {
     "name": "stdout",
     "output_type": "stream",
     "text": [
      "['August 15th 1947']\n"
     ]
    }
   ],
   "source": [
    "import re\n",
    "\n",
    "file_path = r\"C:\\Sql Data\\15_Aug_1947.txt\"\n",
    "with open(file_path, \"r\") as file:\n",
    "    text = file.read()\n",
    "pattern = re.compile(r'\\b(?:January|February|March|April|May|June|July|August|September|October|November|December)\\s+\\d{1,2}(?:st|nd|rd|th)\\s+\\d{4}\\b')\n",
    "change_text = pattern.findall(text)\n",
    "print(change_text)"
   ]
  },
  {
   "cell_type": "markdown",
   "id": "d820b856",
   "metadata": {},
   "source": [
    "Q15"
   ]
  },
  {
   "cell_type": "code",
   "execution_count": 189,
   "id": "ee9060b3",
   "metadata": {},
   "outputs": [
    {
     "name": "stdout",
     "output_type": "stream",
     "text": [
      "We found words: ['fox', 'dog']\n"
     ]
    }
   ],
   "source": [
    "def search_strings(text, searched_words):\n",
    "    found_words = []\n",
    "    for word in searched_words:\n",
    "        if word in text:\n",
    "            found_words.append(word)\n",
    "    return found_words\n",
    "sample_text = 'The quick brown fox jumps over the lazy dog.'\n",
    "searched_words = ['fox', 'dog', 'horse']\n",
    "found_words = search_strings(sample_text, searched_words)\n",
    "print(\"We found words:\", found_words)\n"
   ]
  },
  {
   "cell_type": "markdown",
   "id": "85bb7712",
   "metadata": {},
   "source": [
    "Q16"
   ]
  },
  {
   "cell_type": "code",
   "execution_count": 193,
   "id": "13d5735e",
   "metadata": {},
   "outputs": [
    {
     "name": "stdout",
     "output_type": "stream",
     "text": [
      "The word 'fox' is found at index 16.\n"
     ]
    }
   ],
   "source": [
    "def search_strings(text, searched_word):\n",
    "    location_word = text.find(searched_word)\n",
    "    return location_word\n",
    "sample_text = 'The quick brown fox jumps over the lazy dog.'\n",
    "searched_word = 'fox'\n",
    "location_word = search_strings(sample_text, searched_word)\n",
    "if location_word != -1:\n",
    "    print(f\"The word '{searched_word}' is found at index {location_word}.\")\n",
    "else:\n",
    "    print(f\"The word '{searched_word}' is not found in the text.\")"
   ]
  },
  {
   "cell_type": "markdown",
   "id": "2c239500",
   "metadata": {},
   "source": [
    "Q17"
   ]
  },
  {
   "cell_type": "code",
   "execution_count": 196,
   "id": "70675247",
   "metadata": {},
   "outputs": [
    {
     "name": "stdout",
     "output_type": "stream",
     "text": [
      "Positions of the substring  'exercises' within string will be: [7, 22, 36]\n"
     ]
    }
   ],
   "source": [
    "def find_substrings(text, pattern):\n",
    "    positions = []\n",
    "    start = 0\n",
    "    while True:\n",
    "        index = text.find(pattern, start)\n",
    "        if index == -1:\n",
    "            break\n",
    "        positions.append(index)\n",
    "        start = index + 1\n",
    "    return positions\n",
    "sample_text = 'Python exercises, PHP exercises, C# exercises'\n",
    "pattern = 'exercises'\n",
    "positions = find_substrings(sample_text, pattern)\n",
    "print(\"Positions of the substring  'exercises' within string will be:\", positions)"
   ]
  },
  {
   "cell_type": "markdown",
   "id": "70ac6e29",
   "metadata": {},
   "source": [
    "Q18"
   ]
  },
  {
   "cell_type": "code",
   "execution_count": 198,
   "id": "1b4dd952",
   "metadata": {},
   "outputs": [
    {
     "name": "stdout",
     "output_type": "stream",
     "text": [
      "We Found \"exercises\" at 7:16\n",
      "We Found \"exercises\" at 22:31\n",
      "We Found \"exercises\" at 36:45\n"
     ]
    }
   ],
   "source": [
    "import re\n",
    "text = 'Python exercises, PHP exercises, C# exercises'\n",
    "pattern = 'exercises'\n",
    "for match in re.finditer(pattern, text):\n",
    "    s = match.start()\n",
    "    e = match.end()\n",
    "    print('We Found \"%s\" at %d:%d' % (text[s:e], s, e))"
   ]
  },
  {
   "cell_type": "markdown",
   "id": "baccd57a",
   "metadata": {},
   "source": [
    "Q19"
   ]
  },
  {
   "cell_type": "code",
   "execution_count": 204,
   "id": "dcc984b4",
   "metadata": {},
   "outputs": [
    {
     "name": "stdout",
     "output_type": "stream",
     "text": [
      "Original date is: 2024-03-07\n",
      "Changes date will be: 07-03-2024\n"
     ]
    }
   ],
   "source": [
    "from datetime import datetime\n",
    "\n",
    "def change_date(date_str):\n",
    "    date_obj = datetime.strptime(date_str, '%Y-%m-%d')\n",
    "    formatted_date = date_obj.strftime('%d-%m-%Y')\n",
    "    return formatted_date\n",
    "date_str = '2024-03-07'\n",
    "formatted_date = change_date(date_str)\n",
    "print(\"Original date is:\", date_str)\n",
    "print(\"Changes date will be:\", formatted_date)"
   ]
  },
  {
   "cell_type": "markdown",
   "id": "28d8afc2",
   "metadata": {},
   "source": [
    "Q20"
   ]
  },
  {
   "cell_type": "code",
   "execution_count": 209,
   "id": "647d3c4f",
   "metadata": {},
   "outputs": [
    {
     "name": "stdout",
     "output_type": "stream",
     "text": [
      "All decimal numbers with a precision of 1 or 2 in the given string: ['01.12', '145.8', '3.01', '27.25', '0.25']\n"
     ]
    }
   ],
   "source": [
    "\n",
    "import re\n",
    "\n",
    "def find_decimals(text):\n",
    "    pattern = re.compile(r'\\b\\d+\\.\\d{1,2}\\b')\n",
    "    decimal_numbers = pattern.findall(text)\n",
    "    return decimal_numbers\n",
    "sample_text = \"01.12 0132.123 2.31875 145.8 3.01 27.25 0.25\"\n",
    "found_numbers = find_decimals(sample_text)\n",
    "print(\"All decimal numbers with a precision of 1 or 2 in the given string:\", found_numbers)"
   ]
  },
  {
   "cell_type": "markdown",
   "id": "16be5b25",
   "metadata": {},
   "source": [
    "Q21"
   ]
  },
  {
   "cell_type": "code",
   "execution_count": 211,
   "id": "b7ad8d9a",
   "metadata": {},
   "outputs": [
    {
     "name": "stdout",
     "output_type": "stream",
     "text": [
      "Number: 123, Position: 3\n",
      "Number: 456, Position: 9\n",
      "Number: 789, Position: 15\n",
      "Number: 1011, Position: 21\n"
     ]
    }
   ],
   "source": [
    "import re\n",
    "\n",
    "def find_numbers_and_positions(text):\n",
    "    pattern = re.compile(r'\\d+')\n",
    "    numbers_with_positions = [(match.group(), match.start()) for match in pattern.finditer(text)]\n",
    "    return numbers_with_positions\n",
    "sample_text = \"abc123def456ghi789jkl1011\"\n",
    "numbers_with_positions = find_numbers_and_positions(sample_text)\n",
    "for number, position in numbers_with_positions:\n",
    "    print(f\"Number: {number}, Position: {position}\")"
   ]
  },
  {
   "cell_type": "markdown",
   "id": "79432b1a",
   "metadata": {},
   "source": [
    "Q22"
   ]
  },
  {
   "cell_type": "code",
   "execution_count": 214,
   "id": "0827418f",
   "metadata": {},
   "outputs": [
    {
     "name": "stdout",
     "output_type": "stream",
     "text": [
      "Largest Numeric Value is: 950\n"
     ]
    }
   ],
   "source": [
    "import re\n",
    "\n",
    "def extract_maximum_number(text):\n",
    "    numbers = [int(num) for num in re.findall(r'\\d+', text)]\n",
    "    if numbers:\n",
    "        max_number = max(numbers)\n",
    "        return max_number\n",
    "    else:\n",
    "        return None\n",
    "sample_text = 'My marks in each semester are: 947, 896, 926, 524, 734, 950, 642'\n",
    "max_number = extract_maximum_number(sample_text)\n",
    "if max_number is not None:\n",
    "    print(\"Largest Numeric Value is:\", max_number)\n",
    "else:\n",
    "    print(\"No numeric values found in the text.\")"
   ]
  },
  {
   "cell_type": "markdown",
   "id": "334ed363",
   "metadata": {},
   "source": [
    "Q23"
   ]
  },
  {
   "cell_type": "code",
   "execution_count": 215,
   "id": "09aa479d",
   "metadata": {},
   "outputs": [
    {
     "name": "stdout",
     "output_type": "stream",
     "text": [
      "Regular Expression Is An Important Topic In Python\n"
     ]
    }
   ],
   "source": [
    "import re\n",
    "\n",
    "def insert_spaces(text):\n",
    "    pattern = re.compile(r'(?<=[a-z])(?=[A-Z])')  \n",
    "    spaced_text = pattern.sub(' ', text)\n",
    "    return spaced_text\n",
    "sample_text = \"RegularExpressionIsAnImportantTopicInPython\"\n",
    "spaced_text = insert_spaces(sample_text)\n",
    "print(spaced_text)"
   ]
  },
  {
   "cell_type": "markdown",
   "id": "c41088a4",
   "metadata": {},
   "source": [
    "Q24"
   ]
  },
  {
   "cell_type": "code",
   "execution_count": 219,
   "id": "a74d49b0",
   "metadata": {},
   "outputs": [
    {
     "name": "stdout",
     "output_type": "stream",
     "text": [
      "Found sequences: ['Python', 'Sequences', 'Upper', 'Lower', 'Letters']\n"
     ]
    }
   ],
   "source": [
    "import re\n",
    "\n",
    "def find_sequences(text):\n",
    "    pattern = re.compile(r'[A-Z][a-z]+')\n",
    "    sequences = pattern.findall(text)\n",
    "    return sequences\n",
    "sample_text = \"Python regex to find Sequences of one Upper case letter followed by Lower case Letters.\"\n",
    "found_sequences = find_sequences(sample_text)\n",
    "print(\"Found sequences:\", found_sequences)\n"
   ]
  },
  {
   "cell_type": "markdown",
   "id": "1371aa55",
   "metadata": {},
   "source": [
    "Q25"
   ]
  },
  {
   "cell_type": "code",
   "execution_count": 221,
   "id": "df2b9882",
   "metadata": {},
   "outputs": [
    {
     "name": "stdout",
     "output_type": "stream",
     "text": [
      "Hello hello world\n"
     ]
    }
   ],
   "source": [
    "import re\n",
    "\n",
    "def remove_continuous_duplicates(sentence):\n",
    "    pattern = re.compile(r'\\b(\\w+)(?:\\s+\\1\\b)+')\n",
    "    cleaned_sentence = pattern.sub(r'\\1', sentence)\n",
    "    return cleaned_sentence\n",
    "sample_text = \"Hello hello world world\"\n",
    "new_text = remove_continuous_duplicates(sample_text)\n",
    "print(new_text)"
   ]
  },
  {
   "cell_type": "markdown",
   "id": "a7a506e6",
   "metadata": {},
   "source": [
    "Q26"
   ]
  },
  {
   "cell_type": "code",
   "execution_count": 223,
   "id": "8c3d088d",
   "metadata": {},
   "outputs": [
    {
     "name": "stdout",
     "output_type": "stream",
     "text": [
      "String \"Python123\" ends with an alphanumeric character: True\n",
      "String \"world!\" ends with an alphanumeric character: False\n",
      "String \"123_\" ends with an alphanumeric character: True\n",
      "String \"abc_ABC\" ends with an alphanumeric character: True\n",
      "String \"Python*\" ends with an alphanumeric character: False\n"
     ]
    }
   ],
   "source": [
    "import re\n",
    "\n",
    "def ends_with_alphanumeric(string):\n",
    "    pattern = re.compile(r'\\w$')\n",
    "    match = pattern.search(string)\n",
    "    return bool(match)\n",
    "strings = [\"Python123\", \"world!\", \"123_\", \"abc_ABC\", \"Python*\"]\n",
    "for s in strings:\n",
    "    print(f'String \"{s}\" ends with an alphanumeric character: {ends_with_alphanumeric(s)}')"
   ]
  },
  {
   "cell_type": "markdown",
   "id": "2cb62ac8",
   "metadata": {},
   "source": [
    "Q27"
   ]
  },
  {
   "cell_type": "code",
   "execution_count": 224,
   "id": "b4239743",
   "metadata": {},
   "outputs": [
    {
     "name": "stdout",
     "output_type": "stream",
     "text": [
      "Extracted hashtags: ['#Doltiwal', '#xyzabc', '#Demonetization']\n"
     ]
    }
   ],
   "source": [
    "import re\n",
    "\n",
    "def extract_hashtags(text):\n",
    "    pattern = re.compile(r'#\\w+')\n",
    "    hashtags = pattern.findall(text)\n",
    "    return hashtags\n",
    "sample_text = \"\"\"RT @kapil_kausik: #Doltiwal I mean #xyzabc is \"hurt\" by #Demonetization as the same has rendered USELESS <ed><U+00A0><U+00BD><ed><U+00B1><U+0089> \"acquired funds\" No wo\"\"\"\n",
    "hashtags = extract_hashtags(sample_text)\n",
    "print(\"Extracted hashtags:\", hashtags)"
   ]
  },
  {
   "cell_type": "markdown",
   "id": "eee9391b",
   "metadata": {},
   "source": [
    "Q28"
   ]
  },
  {
   "cell_type": "code",
   "execution_count": 229,
   "id": "798cc48f",
   "metadata": {},
   "outputs": [
    {
     "name": "stdout",
     "output_type": "stream",
     "text": [
      "Updated text is: @Jags123456 Bharat band on 28??<ed><ed>Those who are protesting #demonetization are all different party leaders\n"
     ]
    }
   ],
   "source": [
    "import re\n",
    "\n",
    "def remove_u_plus_symbols(text):\n",
    "    pattern = re.compile(r'<U\\+[0-9A-Fa-f]{4}>')\n",
    "    updated_text = pattern.sub('', text)\n",
    "    return updated_text\n",
    "sample_text = \"@Jags123456 Bharat band on 28??<ed><U+00A0><U+00BD><ed><U+00B8><U+0082>Those who are protesting #demonetization are all different party leaders\"\n",
    "updated_text = remove_u_plus_symbols(sample_text)\n",
    "print(\"Updated text is:\", updated_text)"
   ]
  },
  {
   "cell_type": "markdown",
   "id": "84f1972f",
   "metadata": {},
   "source": [
    "Q29"
   ]
  },
  {
   "cell_type": "code",
   "execution_count": 226,
   "id": "ed324cb6",
   "metadata": {},
   "outputs": [
    {
     "name": "stdout",
     "output_type": "stream",
     "text": [
      "Extracted dates: ['12-09-1992', '15-12-1999']\n"
     ]
    }
   ],
   "source": [
    "import re\n",
    "\n",
    "def extract_dates_from_text(file_path):\n",
    "    with open(file_path, 'r') as file:\n",
    "        text = file.read()\n",
    "    pattern = re.compile(r'\\b\\d{2}-\\d{2}-\\d{4}\\b')\n",
    "    dates = pattern.findall(text)\n",
    "    return dates\n",
    "file_path = r\"C:\\Sql Data\\Date_Ext.txt\"\n",
    "dates = extract_dates_from_text(file_path)\n",
    "print(\"Extracted dates:\", dates)"
   ]
  },
  {
   "cell_type": "markdown",
   "id": "382d5e8c",
   "metadata": {},
   "source": [
    "Q30"
   ]
  },
  {
   "cell_type": "code",
   "execution_count": 228,
   "id": "175664a8",
   "metadata": {},
   "outputs": [
    {
     "name": "stdout",
     "output_type": "stream",
     "text": [
      "Updated text:  following example creates  ArrayList  a capacity   elements. 4 elements   added   ArrayList   ArrayList  trimmed accordingly.\n"
     ]
    }
   ],
   "source": [
    "import re\n",
    "\n",
    "def remove_words_of_length_between_2_and_4(text):\n",
    "    pattern = re.compile(r'\\b\\w{2,4}\\b')\n",
    "    cleaned_text = pattern.sub('', text)\n",
    "    return cleaned_text\n",
    "sample_text = \"The following example creates an ArrayList with a capacity of 50 elements. 4 elements are then added to the ArrayList and the ArrayList is trimmed accordingly.\"\n",
    "update_text = remove_words_of_length_between_2_and_4(sample_text)\n",
    "print(\"Updated text:\", update_text)"
   ]
  }
 ],
 "metadata": {
  "kernelspec": {
   "display_name": "Python 3 (ipykernel)",
   "language": "python",
   "name": "python3"
  },
  "language_info": {
   "codemirror_mode": {
    "name": "ipython",
    "version": 3
   },
   "file_extension": ".py",
   "mimetype": "text/x-python",
   "name": "python",
   "nbconvert_exporter": "python",
   "pygments_lexer": "ipython3",
   "version": "3.10.9"
  }
 },
 "nbformat": 4,
 "nbformat_minor": 5
}
